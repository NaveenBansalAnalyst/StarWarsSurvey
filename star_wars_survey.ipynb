{
 "cells": [
  {
   "cell_type": "markdown",
   "id": "a0eab7dc",
   "metadata": {},
   "source": [
    "# Star Wars Survey Analysis"
   ]
  },
  {
   "cell_type": "markdown",
   "id": "1db6bf29",
   "metadata": {},
   "source": [
    "While waiting for Star Wars: The Force Awakens to come out, the team at FiveThirtyEight became interested in answering some questions about Star Wars fans. In particular, they wondered: does the rest of America realize that “The Empire Strikes Back” is clearly the best of the bunch?\n",
    "\n",
    "The team needed to collect data addressing this question. To do this, they surveyed Star Wars fans using the online tool SurveyMonkey."
   ]
  },
  {
   "cell_type": "markdown",
   "id": "83305d90",
   "metadata": {},
   "source": [
    "# Objective"
   ]
  },
  {
   "cell_type": "markdown",
   "id": "f58c41ae",
   "metadata": {},
   "source": [
    "The objective of this analysis is to clean the data and answer which of the Star Wars movies are the most popular and well liked among the respondents of the survey."
   ]
  },
  {
   "cell_type": "markdown",
   "id": "19758017",
   "metadata": {},
   "source": [
    "# Reading in the data"
   ]
  },
  {
   "cell_type": "code",
   "execution_count": 1,
   "id": "8f7d0234",
   "metadata": {},
   "outputs": [
    {
     "data": {
      "text/html": [
       "<div>\n",
       "<style scoped>\n",
       "    .dataframe tbody tr th:only-of-type {\n",
       "        vertical-align: middle;\n",
       "    }\n",
       "\n",
       "    .dataframe tbody tr th {\n",
       "        vertical-align: top;\n",
       "    }\n",
       "\n",
       "    .dataframe thead th {\n",
       "        text-align: right;\n",
       "    }\n",
       "</style>\n",
       "<table border=\"1\" class=\"dataframe\">\n",
       "  <thead>\n",
       "    <tr style=\"text-align: right;\">\n",
       "      <th></th>\n",
       "      <th>RespondentID</th>\n",
       "      <th>Have you seen any of the 6 films in the Star Wars franchise?</th>\n",
       "      <th>Do you consider yourself to be a fan of the Star Wars film franchise?</th>\n",
       "      <th>Which of the following Star Wars films have you seen? Please select all that apply.</th>\n",
       "      <th>Unnamed: 4</th>\n",
       "      <th>Unnamed: 5</th>\n",
       "      <th>Unnamed: 6</th>\n",
       "      <th>Unnamed: 7</th>\n",
       "      <th>Unnamed: 8</th>\n",
       "      <th>Please rank the Star Wars films in order of preference with 1 being your favorite film in the franchise and 6 being your least favorite film.</th>\n",
       "      <th>...</th>\n",
       "      <th>Unnamed: 28</th>\n",
       "      <th>Which character shot first?</th>\n",
       "      <th>Are you familiar with the Expanded Universe?</th>\n",
       "      <th>Do you consider yourself to be a fan of the Expanded Universe?</th>\n",
       "      <th>Do you consider yourself to be a fan of the Star Trek franchise?</th>\n",
       "      <th>Gender</th>\n",
       "      <th>Age</th>\n",
       "      <th>Household Income</th>\n",
       "      <th>Education</th>\n",
       "      <th>Location (Census Region)</th>\n",
       "    </tr>\n",
       "  </thead>\n",
       "  <tbody>\n",
       "    <tr>\n",
       "      <th>0</th>\n",
       "      <td>3292879998</td>\n",
       "      <td>Yes</td>\n",
       "      <td>Yes</td>\n",
       "      <td>Star Wars: Episode I  The Phantom Menace</td>\n",
       "      <td>Star Wars: Episode II  Attack of the Clones</td>\n",
       "      <td>Star Wars: Episode III  Revenge of the Sith</td>\n",
       "      <td>Star Wars: Episode IV  A New Hope</td>\n",
       "      <td>Star Wars: Episode V The Empire Strikes Back</td>\n",
       "      <td>Star Wars: Episode VI Return of the Jedi</td>\n",
       "      <td>3.0</td>\n",
       "      <td>...</td>\n",
       "      <td>Very favorably</td>\n",
       "      <td>I don't understand this question</td>\n",
       "      <td>Yes</td>\n",
       "      <td>No</td>\n",
       "      <td>No</td>\n",
       "      <td>Male</td>\n",
       "      <td>18-29</td>\n",
       "      <td>NaN</td>\n",
       "      <td>High school degree</td>\n",
       "      <td>South Atlantic</td>\n",
       "    </tr>\n",
       "    <tr>\n",
       "      <th>1</th>\n",
       "      <td>3292879538</td>\n",
       "      <td>No</td>\n",
       "      <td>NaN</td>\n",
       "      <td>NaN</td>\n",
       "      <td>NaN</td>\n",
       "      <td>NaN</td>\n",
       "      <td>NaN</td>\n",
       "      <td>NaN</td>\n",
       "      <td>NaN</td>\n",
       "      <td>NaN</td>\n",
       "      <td>...</td>\n",
       "      <td>NaN</td>\n",
       "      <td>NaN</td>\n",
       "      <td>NaN</td>\n",
       "      <td>NaN</td>\n",
       "      <td>Yes</td>\n",
       "      <td>Male</td>\n",
       "      <td>18-29</td>\n",
       "      <td>$0 - $24,999</td>\n",
       "      <td>Bachelor degree</td>\n",
       "      <td>West South Central</td>\n",
       "    </tr>\n",
       "    <tr>\n",
       "      <th>2</th>\n",
       "      <td>3292765271</td>\n",
       "      <td>Yes</td>\n",
       "      <td>No</td>\n",
       "      <td>Star Wars: Episode I  The Phantom Menace</td>\n",
       "      <td>Star Wars: Episode II  Attack of the Clones</td>\n",
       "      <td>Star Wars: Episode III  Revenge of the Sith</td>\n",
       "      <td>NaN</td>\n",
       "      <td>NaN</td>\n",
       "      <td>NaN</td>\n",
       "      <td>1.0</td>\n",
       "      <td>...</td>\n",
       "      <td>Unfamiliar (N/A)</td>\n",
       "      <td>I don't understand this question</td>\n",
       "      <td>No</td>\n",
       "      <td>NaN</td>\n",
       "      <td>No</td>\n",
       "      <td>Male</td>\n",
       "      <td>18-29</td>\n",
       "      <td>$0 - $24,999</td>\n",
       "      <td>High school degree</td>\n",
       "      <td>West North Central</td>\n",
       "    </tr>\n",
       "    <tr>\n",
       "      <th>3</th>\n",
       "      <td>3292763116</td>\n",
       "      <td>Yes</td>\n",
       "      <td>Yes</td>\n",
       "      <td>Star Wars: Episode I  The Phantom Menace</td>\n",
       "      <td>Star Wars: Episode II  Attack of the Clones</td>\n",
       "      <td>Star Wars: Episode III  Revenge of the Sith</td>\n",
       "      <td>Star Wars: Episode IV  A New Hope</td>\n",
       "      <td>Star Wars: Episode V The Empire Strikes Back</td>\n",
       "      <td>Star Wars: Episode VI Return of the Jedi</td>\n",
       "      <td>5.0</td>\n",
       "      <td>...</td>\n",
       "      <td>Very favorably</td>\n",
       "      <td>I don't understand this question</td>\n",
       "      <td>No</td>\n",
       "      <td>NaN</td>\n",
       "      <td>Yes</td>\n",
       "      <td>Male</td>\n",
       "      <td>18-29</td>\n",
       "      <td>$100,000 - $149,999</td>\n",
       "      <td>Some college or Associate degree</td>\n",
       "      <td>West North Central</td>\n",
       "    </tr>\n",
       "    <tr>\n",
       "      <th>4</th>\n",
       "      <td>3292731220</td>\n",
       "      <td>Yes</td>\n",
       "      <td>Yes</td>\n",
       "      <td>Star Wars: Episode I  The Phantom Menace</td>\n",
       "      <td>Star Wars: Episode II  Attack of the Clones</td>\n",
       "      <td>Star Wars: Episode III  Revenge of the Sith</td>\n",
       "      <td>Star Wars: Episode IV  A New Hope</td>\n",
       "      <td>Star Wars: Episode V The Empire Strikes Back</td>\n",
       "      <td>Star Wars: Episode VI Return of the Jedi</td>\n",
       "      <td>5.0</td>\n",
       "      <td>...</td>\n",
       "      <td>Somewhat favorably</td>\n",
       "      <td>Greedo</td>\n",
       "      <td>Yes</td>\n",
       "      <td>No</td>\n",
       "      <td>No</td>\n",
       "      <td>Male</td>\n",
       "      <td>18-29</td>\n",
       "      <td>$100,000 - $149,999</td>\n",
       "      <td>Some college or Associate degree</td>\n",
       "      <td>West North Central</td>\n",
       "    </tr>\n",
       "  </tbody>\n",
       "</table>\n",
       "<p>5 rows × 38 columns</p>\n",
       "</div>"
      ],
      "text/plain": [
       "   RespondentID Have you seen any of the 6 films in the Star Wars franchise?  \\\n",
       "0    3292879998                                                Yes             \n",
       "1    3292879538                                                 No             \n",
       "2    3292765271                                                Yes             \n",
       "3    3292763116                                                Yes             \n",
       "4    3292731220                                                Yes             \n",
       "\n",
       "  Do you consider yourself to be a fan of the Star Wars film franchise?  \\\n",
       "0                                                Yes                      \n",
       "1                                                NaN                      \n",
       "2                                                 No                      \n",
       "3                                                Yes                      \n",
       "4                                                Yes                      \n",
       "\n",
       "  Which of the following Star Wars films have you seen? Please select all that apply.  \\\n",
       "0           Star Wars: Episode I  The Phantom Menace                                    \n",
       "1                                                NaN                                    \n",
       "2           Star Wars: Episode I  The Phantom Menace                                    \n",
       "3           Star Wars: Episode I  The Phantom Menace                                    \n",
       "4           Star Wars: Episode I  The Phantom Menace                                    \n",
       "\n",
       "                                    Unnamed: 4  \\\n",
       "0  Star Wars: Episode II  Attack of the Clones   \n",
       "1                                          NaN   \n",
       "2  Star Wars: Episode II  Attack of the Clones   \n",
       "3  Star Wars: Episode II  Attack of the Clones   \n",
       "4  Star Wars: Episode II  Attack of the Clones   \n",
       "\n",
       "                                    Unnamed: 5  \\\n",
       "0  Star Wars: Episode III  Revenge of the Sith   \n",
       "1                                          NaN   \n",
       "2  Star Wars: Episode III  Revenge of the Sith   \n",
       "3  Star Wars: Episode III  Revenge of the Sith   \n",
       "4  Star Wars: Episode III  Revenge of the Sith   \n",
       "\n",
       "                          Unnamed: 6  \\\n",
       "0  Star Wars: Episode IV  A New Hope   \n",
       "1                                NaN   \n",
       "2                                NaN   \n",
       "3  Star Wars: Episode IV  A New Hope   \n",
       "4  Star Wars: Episode IV  A New Hope   \n",
       "\n",
       "                                     Unnamed: 7  \\\n",
       "0  Star Wars: Episode V The Empire Strikes Back   \n",
       "1                                           NaN   \n",
       "2                                           NaN   \n",
       "3  Star Wars: Episode V The Empire Strikes Back   \n",
       "4  Star Wars: Episode V The Empire Strikes Back   \n",
       "\n",
       "                                 Unnamed: 8  \\\n",
       "0  Star Wars: Episode VI Return of the Jedi   \n",
       "1                                       NaN   \n",
       "2                                       NaN   \n",
       "3  Star Wars: Episode VI Return of the Jedi   \n",
       "4  Star Wars: Episode VI Return of the Jedi   \n",
       "\n",
       "   Please rank the Star Wars films in order of preference with 1 being your favorite film in the franchise and 6 being your least favorite film.  \\\n",
       "0                                                3.0                                                                                               \n",
       "1                                                NaN                                                                                               \n",
       "2                                                1.0                                                                                               \n",
       "3                                                5.0                                                                                               \n",
       "4                                                5.0                                                                                               \n",
       "\n",
       "   ...         Unnamed: 28       Which character shot first?  \\\n",
       "0  ...      Very favorably  I don't understand this question   \n",
       "1  ...                 NaN                               NaN   \n",
       "2  ...    Unfamiliar (N/A)  I don't understand this question   \n",
       "3  ...      Very favorably  I don't understand this question   \n",
       "4  ...  Somewhat favorably                            Greedo   \n",
       "\n",
       "   Are you familiar with the Expanded Universe?  \\\n",
       "0                                           Yes   \n",
       "1                                           NaN   \n",
       "2                                            No   \n",
       "3                                            No   \n",
       "4                                           Yes   \n",
       "\n",
       "   Do you consider yourself to be a fan of the Expanded Universe?  \\\n",
       "0                                                 No                \n",
       "1                                                NaN                \n",
       "2                                                NaN                \n",
       "3                                                NaN                \n",
       "4                                                 No                \n",
       "\n",
       "   Do you consider yourself to be a fan of the Star Trek franchise? Gender  \\\n",
       "0                                                 No                  Male   \n",
       "1                                                Yes                  Male   \n",
       "2                                                 No                  Male   \n",
       "3                                                Yes                  Male   \n",
       "4                                                 No                  Male   \n",
       "\n",
       "     Age     Household Income                         Education  \\\n",
       "0  18-29                  NaN                High school degree   \n",
       "1  18-29         $0 - $24,999                   Bachelor degree   \n",
       "2  18-29         $0 - $24,999                High school degree   \n",
       "3  18-29  $100,000 - $149,999  Some college or Associate degree   \n",
       "4  18-29  $100,000 - $149,999  Some college or Associate degree   \n",
       "\n",
       "  Location (Census Region)  \n",
       "0           South Atlantic  \n",
       "1       West South Central  \n",
       "2       West North Central  \n",
       "3       West North Central  \n",
       "4       West North Central  \n",
       "\n",
       "[5 rows x 38 columns]"
      ]
     },
     "execution_count": 1,
     "metadata": {},
     "output_type": "execute_result"
    }
   ],
   "source": [
    "import pandas as pd\n",
    "import numpy as np\n",
    "star_wars = pd.read_csv(r'C:\\Users\\nbnav\\OneDrive\\Desktop\\Dataquest\\star_wars.csv', encoding='ISO-8859-1')\n",
    "star_wars.head()"
   ]
  },
  {
   "cell_type": "markdown",
   "id": "b65ad607",
   "metadata": {},
   "source": [
    "Let's only keep rows where the respondent has seen atleast one star wars movie."
   ]
  },
  {
   "cell_type": "code",
   "execution_count": 2,
   "id": "5d2bb804",
   "metadata": {},
   "outputs": [
    {
     "data": {
      "text/plain": [
       "(936, 38)"
      ]
     },
     "execution_count": 2,
     "metadata": {},
     "output_type": "execute_result"
    }
   ],
   "source": [
    "star_wars = star_wars[star_wars['Have you seen any of the 6 films in the Star Wars franchise?'] == 'Yes']\n",
    "star_wars.shape"
   ]
  },
  {
   "cell_type": "markdown",
   "id": "3af16c54",
   "metadata": {},
   "source": [
    "We got the total rows down from 1186 to 936."
   ]
  },
  {
   "cell_type": "markdown",
   "id": "9157c882",
   "metadata": {},
   "source": [
    "# Including respondents who have watched all 6 movies"
   ]
  },
  {
   "cell_type": "markdown",
   "id": "bb7dff35",
   "metadata": {},
   "source": [
    "To answer the question which movie is the most liked by the viewers among the 6 movies, we should only consider the responses of viewers who have watched all the 6 movies to keep the analysis fair."
   ]
  },
  {
   "cell_type": "markdown",
   "id": "953f4eb9",
   "metadata": {},
   "source": [
    "# Renaming seen columns"
   ]
  },
  {
   "cell_type": "code",
   "execution_count": 6,
   "id": "594dca51",
   "metadata": {},
   "outputs": [],
   "source": [
    "star_wars = star_wars.rename(columns={'Which of the following Star Wars films have you seen? Please select all that apply.':\n",
    "                                     'seen_1', 'Unnamed: 4': 'seen_2', 'Unnamed: 5': 'seen_3', 'Unnamed: 6': 'seen_4',\n",
    "                                     'Unnamed: 7': 'seen_5', 'Unnamed: 8': 'seen_6'})"
   ]
  },
  {
   "cell_type": "code",
   "execution_count": 7,
   "id": "a755be73",
   "metadata": {},
   "outputs": [
    {
     "data": {
      "text/plain": [
       "(471, 38)"
      ]
     },
     "execution_count": 7,
     "metadata": {},
     "output_type": "execute_result"
    }
   ],
   "source": [
    "cols = ['seen_1', 'seen_2', 'seen_3', 'seen_4', 'seen_5', 'seen_6']\n",
    "mask = star_wars[cols].notnull().all(axis=1)\n",
    "star_wars = star_wars[mask]\n",
    "star_wars.shape"
   ]
  },
  {
   "cell_type": "markdown",
   "id": "ca9fd4d8",
   "metadata": {},
   "source": [
    "We have 471 respondents who have watched all 6 movies in the star wars universe"
   ]
  },
  {
   "cell_type": "markdown",
   "id": "7010d4f2",
   "metadata": {},
   "source": [
    "# Renaming preference columns"
   ]
  },
  {
   "cell_type": "code",
   "execution_count": 10,
   "id": "745fb8eb",
   "metadata": {},
   "outputs": [],
   "source": [
    "star_wars = star_wars.rename(columns={'Please rank the Star Wars films in order of preference with 1 being your favorite film in the franchise and 6 being your least favorite film.':\n",
    "                                     'star_wars_1', 'Unnamed: 10': 'star_wars_2', 'Unnamed: 11': 'star_wars_3',\n",
    "                                     'Unnamed: 12': 'star_wars_4', 'Unnamed: 13': 'star_wars_5', 'Unnamed: 14': 'star_wars_6'})"
   ]
  },
  {
   "cell_type": "markdown",
   "id": "aa89627c",
   "metadata": {},
   "source": [
    "# Visualizing the prefrences of the viewers"
   ]
  },
  {
   "cell_type": "markdown",
   "id": "51acaae3",
   "metadata": {},
   "source": [
    "For each star wars movie, the respondent gave a preference number from 1 to 6, with 1 being most preffered and 6 being the least preferred. We are going to do a value count of preferences of each movie and plotiing them on a bar graph. "
   ]
  },
  {
   "cell_type": "code",
   "execution_count": 23,
   "id": "2cf6dfb6",
   "metadata": {},
   "outputs": [
    {
     "data": {
      "image/png": "[encoded data removed]",
      "text/plain": [
       "<Figure size 1200x800 with 6 Axes>"
      ]
     },
     "metadata": {},
     "output_type": "display_data"
    }
   ],
   "source": [
    "import matplotlib.pyplot as plt\n",
    "%matplotlib inline\n",
    "fig, axs = plt.subplots(nrows=3, ncols=2, figsize=(12, 8))\n",
    "\n",
    "# Plot the value counts of each column on separate subplots\n",
    "axs[0, 0].bar(star_wars['star_wars_1'].value_counts().index, star_wars['star_wars_1'].value_counts())\n",
    "axs[0, 1].bar(star_wars['star_wars_2'].value_counts().index, star_wars['star_wars_2'].value_counts())\n",
    "axs[1, 0].bar(star_wars['star_wars_3'].value_counts().index, star_wars['star_wars_3'].value_counts())\n",
    "axs[1, 1].bar(star_wars['star_wars_4'].value_counts().index, star_wars['star_wars_4'].value_counts())\n",
    "axs[2, 0].bar(star_wars['star_wars_5'].value_counts().index, star_wars['star_wars_5'].value_counts())\n",
    "axs[2, 1].bar(star_wars['star_wars_6'].value_counts().index, star_wars['star_wars_6'].value_counts())\n",
    "\n",
    "axs[0, 0].set_title('Star Wars I')\n",
    "axs[0, 1].set_title('Star Wars II')\n",
    "axs[2, 0].set_title('Star Wars V')\n",
    "axs[1, 0].set_title('Star Wars III')\n",
    "axs[1, 1].set_title('Star Wars IV')\n",
    "axs[2, 1].set_title('Star Wars VI')\n",
    "\n",
    "for ax in axs.flat:\n",
    "    ax.set_ylim([0, 200])\n",
    "\n",
    "plt.subplots_adjust(left=0.1, right=0.9, bottom=0.1, top=0.9, hspace=0.5, wspace=0.4)\n",
    "\n",
    "plt.show()"
   ]
  },
  {
   "cell_type": "markdown",
   "id": "84a07bd1",
   "metadata": {},
   "source": [
    "# Conclusion"
   ]
  },
  {
   "cell_type": "markdown",
   "id": "35ae3a46",
   "metadata": {},
   "source": [
    "A lot of interesting insights can be derived from the figure:\n",
    "\n",
    "- Star wars I: The phantom menace is not very popular among fans with most choosing it as their 4th or 6th preferred movie.\n",
    "\n",
    "\n",
    "- Star wars II: Attack of the clones is also not approved by the fans with it being ranked 5 by most viewers.\n",
    "\n",
    "\n",
    "- Star wars III: Revenge of the sith is rated no better than the first episode.\n",
    "\n",
    "\n",
    "- Star wars IV: A new hope is where people start appreciating the series with many nominating it as their 1st, 2nd or 3rd preferred movie in the franchise.\n",
    "\n",
    "\n",
    "- Star wars V: The empire strikes back: Clearly the most admired movie with more than 150 respondents opting it as their pick.\n",
    "\n",
    "\n",
    "- Star wars VI: Return of the jedi: While not as impresive as the fifth one, still holds better liking than the prequel.\n",
    "\n",
    "\n",
    "\n",
    "Based on the data, it's clear that fans who have seen all six movies in the franchise tend to prefer the original trilogy over the prequel trilogy, with Star Wars V: The Empire Strikes Back being the most highly rated of all."
   ]
  },
  {
   "cell_type": "code",
   "execution_count": null,
   "id": "e8269aca",
   "metadata": {},
   "outputs": [],
   "source": []
  }
 ],
 "metadata": {
  "kernelspec": {
   "display_name": "Python 3 (ipykernel)",
   "language": "python",
   "name": "python3"
  },
  "language_info": {
   "codemirror_mode": {
    "name": "ipython",
    "version": 3
   },
   "file_extension": ".py",
   "mimetype": "text/x-python",
   "name": "python",
   "nbconvert_exporter": "python",
   "pygments_lexer": "ipython3",
   "version": "3.9.13"
  }
 },
 "nbformat": 4,
 "nbformat_minor": 5
}
